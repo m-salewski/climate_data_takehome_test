{
 "cells": [
  {
   "cell_type": "markdown",
   "metadata": {},
   "source": [
    "# EDA 2 & 3\n",
    "\n",
    "2. Now write a function which returns N entries of cities which have the highest variability in `AverageTemperature` in a specified time range.\n",
    "\n",
    "3. Plot the temperature development (and uncertainty) over time (aggregate as you see fit) of the top 4 entries of your function for a given time period and save the plot as a `.png` file.\n"
   ]
  },
  {
   "cell_type": "code",
   "execution_count": 1,
   "metadata": {
    "collapsed": false
   },
   "outputs": [],
   "source": [
    "import pandas as pd"
   ]
  },
  {
   "cell_type": "code",
   "execution_count": 2,
   "metadata": {
    "collapsed": true
   },
   "outputs": [],
   "source": [
    "cols_subset = ['dt', \n",
    "               'AverageTemperature', \n",
    "               'AverageTemperatureUncertainty', \n",
    "               'City', \n",
    "               'Country']"
   ]
  },
  {
   "cell_type": "code",
   "execution_count": 3,
   "metadata": {
    "collapsed": true
   },
   "outputs": [],
   "source": [
    "pdf = pd.read_csv('./data/GlobalLandTemperaturesByCity.csv', \\\n",
    "                  parse_dates=['dt'], infer_datetime_format=True, \n",
    "                 usecols=cols_subset) \\\n",
    "                .dropna()"
   ]
  },
  {
   "cell_type": "code",
   "execution_count": 4,
   "metadata": {
    "collapsed": false
   },
   "outputs": [
    {
     "data": {
      "text/html": [
       "<div>\n",
       "<style scoped>\n",
       "    .dataframe tbody tr th:only-of-type {\n",
       "        vertical-align: middle;\n",
       "    }\n",
       "\n",
       "    .dataframe tbody tr th {\n",
       "        vertical-align: top;\n",
       "    }\n",
       "\n",
       "    .dataframe thead th {\n",
       "        text-align: right;\n",
       "    }\n",
       "</style>\n",
       "<table border=\"1\" class=\"dataframe\">\n",
       "  <thead>\n",
       "    <tr style=\"text-align: right;\">\n",
       "      <th></th>\n",
       "      <th>dt</th>\n",
       "      <th>AverageTemperature</th>\n",
       "      <th>AverageTemperatureUncertainty</th>\n",
       "      <th>City</th>\n",
       "      <th>Country</th>\n",
       "    </tr>\n",
       "  </thead>\n",
       "  <tbody>\n",
       "    <tr>\n",
       "      <th>0</th>\n",
       "      <td>1743-11-01</td>\n",
       "      <td>6.068</td>\n",
       "      <td>1.737</td>\n",
       "      <td>Århus</td>\n",
       "      <td>Denmark</td>\n",
       "    </tr>\n",
       "    <tr>\n",
       "      <th>5</th>\n",
       "      <td>1744-04-01</td>\n",
       "      <td>5.788</td>\n",
       "      <td>3.624</td>\n",
       "      <td>Århus</td>\n",
       "      <td>Denmark</td>\n",
       "    </tr>\n",
       "    <tr>\n",
       "      <th>6</th>\n",
       "      <td>1744-05-01</td>\n",
       "      <td>10.644</td>\n",
       "      <td>1.283</td>\n",
       "      <td>Århus</td>\n",
       "      <td>Denmark</td>\n",
       "    </tr>\n",
       "    <tr>\n",
       "      <th>7</th>\n",
       "      <td>1744-06-01</td>\n",
       "      <td>14.051</td>\n",
       "      <td>1.347</td>\n",
       "      <td>Århus</td>\n",
       "      <td>Denmark</td>\n",
       "    </tr>\n",
       "    <tr>\n",
       "      <th>8</th>\n",
       "      <td>1744-07-01</td>\n",
       "      <td>16.082</td>\n",
       "      <td>1.396</td>\n",
       "      <td>Århus</td>\n",
       "      <td>Denmark</td>\n",
       "    </tr>\n",
       "  </tbody>\n",
       "</table>\n",
       "</div>"
      ],
      "text/plain": [
       "          dt  AverageTemperature  AverageTemperatureUncertainty   City  \\\n",
       "0 1743-11-01               6.068                          1.737  Århus   \n",
       "5 1744-04-01               5.788                          3.624  Århus   \n",
       "6 1744-05-01              10.644                          1.283  Århus   \n",
       "7 1744-06-01              14.051                          1.347  Århus   \n",
       "8 1744-07-01              16.082                          1.396  Århus   \n",
       "\n",
       "   Country  \n",
       "0  Denmark  \n",
       "5  Denmark  \n",
       "6  Denmark  \n",
       "7  Denmark  \n",
       "8  Denmark  "
      ]
     },
     "execution_count": 4,
     "metadata": {},
     "output_type": "execute_result"
    }
   ],
   "source": [
    "pdf.head()"
   ]
  },
  {
   "cell_type": "code",
   "execution_count": 5,
   "metadata": {
    "collapsed": true
   },
   "outputs": [],
   "source": [
    "country_key = 'Country' # 'Country_nr'\n",
    "city_key = 'City' # 'City_nr'"
   ]
  },
  {
   "cell_type": "markdown",
   "metadata": {},
   "source": [
    "### Date processing"
   ]
  },
  {
   "cell_type": "code",
   "execution_count": 6,
   "metadata": {
    "collapsed": true
   },
   "outputs": [],
   "source": [
    "from datetime import datetime, timedelta\n",
    "\n",
    "def get_datetime_range(date_str1, date_str2):\n",
    "\n",
    "    date1 = list(map(int, date_str1.split('-'))) \n",
    "    date2 = list(map(int, date_str2.split('-')))     \n",
    "    \n",
    "    return [datetime(*date1),datetime(*date2)]\n",
    "\n",
    "def get_nr_days(date_range):\n",
    "    \n",
    "    datediff = dt_range[1]-dt_range[0]\n",
    "    \n",
    "    return datediff.days+1\n",
    "\n",
    "def _get_valid_range(date_range, threshold=0.75):\n",
    "    \n",
    "    tot_nr_days = get_nr_days(date_range)\n",
    "    \n",
    "    def meth(s):\n",
    "        \n",
    "        nr_days = s.size\n",
    "        \n",
    "        return nr_days/tot_nr_days >= threshold\n",
    "    \n",
    "    return meth"
   ]
  },
  {
   "cell_type": "markdown",
   "metadata": {},
   "source": [
    "### Variability processing"
   ]
  },
  {
   "cell_type": "code",
   "execution_count": 7,
   "metadata": {
    "collapsed": true
   },
   "outputs": [],
   "source": [
    "# Quantile and IQR\n",
    "qtile = lambda x : np.quantile(x, q=[0.25,0.75])\n",
    "iqr = lambda x: np.abs(np.diff(qtile(x))[0])\n",
    "\n",
    "# wrapper function in case want to use some other metric\n",
    "def _variability_score(fnc):\n",
    "    \n",
    "    def meth(s):\n",
    "    \n",
    "        return fnc(s.values)\n",
    "    \n",
    "    return meth\n",
    "\n",
    "variability_score = _variability_score(iqr)"
   ]
  },
  {
   "cell_type": "code",
   "execution_count": 35,
   "metadata": {
    "collapsed": true
   },
   "outputs": [],
   "source": [
    "# Filter function for the dates\n",
    "\n",
    "def filter_by_dates(pdf, date_range):\n",
    "    return pdf[(pdf['dt'] >= date_range[0]) & (pdf['dt'] <= date_range[1])]"
   ]
  },
  {
   "cell_type": "code",
   "execution_count": 67,
   "metadata": {
    "collapsed": true
   },
   "outputs": [],
   "source": [
    "def _get_highest_variability(fraction_of_obs=0.75):\n",
    "\n",
    "    temper_key =  'AverageTemperature'\n",
    "    \n",
    "    grouping = [city_key, country_key]\n",
    "    \n",
    "    def meth(pdf, N,date_range):\n",
    "    \n",
    "        # Filter to the date range\n",
    "        pdf_ = filter_by_dates(pdf, date_range)\n",
    "        \n",
    "        # Check if date range is contains valid number of events\n",
    "        get_valid_range = _get_valid_range(date_range, fraction_of_obs)\n",
    "\n",
    "        # Goupy on country and city, compute variability by IQR\n",
    "        pdf_ =  pdf_.groupby(grouping)\\\n",
    "            .agg({temper_key:variability_score,'dt':get_valid_range})\\\n",
    "            .reset_index()\\\n",
    "            .rename(columns={temper_key:'variability'})\n",
    "        \n",
    "        # Get the largest N \n",
    "        pdf_ = pdf_[pdf_['dt']].nlargest(N,'variability')\\\n",
    "                    .drop(columns=['dt']) \\\n",
    "                    .reset_index(drop=True)\n",
    "                \n",
    "        return pdf_\n",
    "\n",
    "    return meth\n",
    "\n",
    "# Declare wrapper with threshold fraction for how full the time range should be\n",
    "get_highest_variability = _get_highest_variability(0.0)"
   ]
  },
  {
   "cell_type": "markdown",
   "metadata": {},
   "source": [
    "### Testing"
   ]
  },
  {
   "cell_type": "markdown",
   "metadata": {},
   "source": [
    "Define an arbitrary date range"
   ]
  },
  {
   "cell_type": "code",
   "execution_count": 49,
   "metadata": {
    "collapsed": false
   },
   "outputs": [],
   "source": [
    "dt_range = get_datetime_range('1903-11-01','2013-08-01')"
   ]
  },
  {
   "cell_type": "markdown",
   "metadata": {},
   "source": [
    "Get the variability"
   ]
  },
  {
   "cell_type": "code",
   "execution_count": 50,
   "metadata": {
    "collapsed": false
   },
   "outputs": [],
   "source": [
    "pdf1 = get_highest_variability(pdf, 10, dt_range)"
   ]
  },
  {
   "cell_type": "code",
   "execution_count": 51,
   "metadata": {
    "collapsed": false
   },
   "outputs": [
    {
     "data": {
      "text/html": [
       "<div>\n",
       "<style scoped>\n",
       "    .dataframe tbody tr th:only-of-type {\n",
       "        vertical-align: middle;\n",
       "    }\n",
       "\n",
       "    .dataframe tbody tr th {\n",
       "        vertical-align: top;\n",
       "    }\n",
       "\n",
       "    .dataframe thead th {\n",
       "        text-align: right;\n",
       "    }\n",
       "</style>\n",
       "<table border=\"1\" class=\"dataframe\">\n",
       "  <thead>\n",
       "    <tr style=\"text-align: right;\">\n",
       "      <th></th>\n",
       "      <th>City</th>\n",
       "      <th>Country</th>\n",
       "      <th>variability</th>\n",
       "    </tr>\n",
       "  </thead>\n",
       "  <tbody>\n",
       "    <tr>\n",
       "      <th>0</th>\n",
       "      <td>Hailar</td>\n",
       "      <td>China</td>\n",
       "      <td>31.37000</td>\n",
       "    </tr>\n",
       "    <tr>\n",
       "      <th>1</th>\n",
       "      <td>Yakeshi</td>\n",
       "      <td>China</td>\n",
       "      <td>31.37000</td>\n",
       "    </tr>\n",
       "    <tr>\n",
       "      <th>2</th>\n",
       "      <td>Kyzyl</td>\n",
       "      <td>Russia</td>\n",
       "      <td>31.27825</td>\n",
       "    </tr>\n",
       "    <tr>\n",
       "      <th>3</th>\n",
       "      <td>Blagoveshchensk</td>\n",
       "      <td>Russia</td>\n",
       "      <td>30.60325</td>\n",
       "    </tr>\n",
       "    <tr>\n",
       "      <th>4</th>\n",
       "      <td>Heihe</td>\n",
       "      <td>Russia</td>\n",
       "      <td>30.60325</td>\n",
       "    </tr>\n",
       "  </tbody>\n",
       "</table>\n",
       "</div>"
      ],
      "text/plain": [
       "              City Country  variability\n",
       "0           Hailar   China     31.37000\n",
       "1          Yakeshi   China     31.37000\n",
       "2            Kyzyl  Russia     31.27825\n",
       "3  Blagoveshchensk  Russia     30.60325\n",
       "4            Heihe  Russia     30.60325"
      ]
     },
     "execution_count": 51,
     "metadata": {},
     "output_type": "execute_result"
    }
   ],
   "source": [
    "pdf1.head()"
   ]
  },
  {
   "cell_type": "code",
   "execution_count": 52,
   "metadata": {
    "collapsed": false
   },
   "outputs": [
    {
     "data": {
      "text/html": [
       "<div>\n",
       "<style scoped>\n",
       "    .dataframe tbody tr th:only-of-type {\n",
       "        vertical-align: middle;\n",
       "    }\n",
       "\n",
       "    .dataframe tbody tr th {\n",
       "        vertical-align: top;\n",
       "    }\n",
       "\n",
       "    .dataframe thead th {\n",
       "        text-align: right;\n",
       "    }\n",
       "</style>\n",
       "<table border=\"1\" class=\"dataframe\">\n",
       "  <thead>\n",
       "    <tr style=\"text-align: right;\">\n",
       "      <th></th>\n",
       "      <th>City</th>\n",
       "      <th>Country</th>\n",
       "      <th>variability</th>\n",
       "    </tr>\n",
       "  </thead>\n",
       "  <tbody>\n",
       "    <tr>\n",
       "      <th>0</th>\n",
       "      <td>Hailar</td>\n",
       "      <td>China</td>\n",
       "      <td>31.37000</td>\n",
       "    </tr>\n",
       "    <tr>\n",
       "      <th>1</th>\n",
       "      <td>Yakeshi</td>\n",
       "      <td>China</td>\n",
       "      <td>31.37000</td>\n",
       "    </tr>\n",
       "    <tr>\n",
       "      <th>2</th>\n",
       "      <td>Kyzyl</td>\n",
       "      <td>Russia</td>\n",
       "      <td>31.27825</td>\n",
       "    </tr>\n",
       "    <tr>\n",
       "      <th>3</th>\n",
       "      <td>Blagoveshchensk</td>\n",
       "      <td>Russia</td>\n",
       "      <td>30.60325</td>\n",
       "    </tr>\n",
       "    <tr>\n",
       "      <th>4</th>\n",
       "      <td>Heihe</td>\n",
       "      <td>Russia</td>\n",
       "      <td>30.60325</td>\n",
       "    </tr>\n",
       "  </tbody>\n",
       "</table>\n",
       "</div>"
      ],
      "text/plain": [
       "              City Country  variability\n",
       "0           Hailar   China     31.37000\n",
       "1          Yakeshi   China     31.37000\n",
       "2            Kyzyl  Russia     31.27825\n",
       "3  Blagoveshchensk  Russia     30.60325\n",
       "4            Heihe  Russia     30.60325"
      ]
     },
     "execution_count": 52,
     "metadata": {},
     "output_type": "execute_result"
    }
   ],
   "source": [
    "pdf1.head()"
   ]
  },
  {
   "cell_type": "markdown",
   "metadata": {},
   "source": [
    "## EDA 3\n",
    "\n",
    "Get the top 4 cities, and plot"
   ]
  },
  {
   "cell_type": "code",
   "execution_count": 53,
   "metadata": {
    "collapsed": false
   },
   "outputs": [],
   "source": [
    "pdfN = get_highest_variability(pdf, 4, dt_range)"
   ]
  },
  {
   "cell_type": "code",
   "execution_count": 54,
   "metadata": {
    "collapsed": false
   },
   "outputs": [
    {
     "data": {
      "text/html": [
       "<div>\n",
       "<style scoped>\n",
       "    .dataframe tbody tr th:only-of-type {\n",
       "        vertical-align: middle;\n",
       "    }\n",
       "\n",
       "    .dataframe tbody tr th {\n",
       "        vertical-align: top;\n",
       "    }\n",
       "\n",
       "    .dataframe thead th {\n",
       "        text-align: right;\n",
       "    }\n",
       "</style>\n",
       "<table border=\"1\" class=\"dataframe\">\n",
       "  <thead>\n",
       "    <tr style=\"text-align: right;\">\n",
       "      <th></th>\n",
       "      <th>City</th>\n",
       "      <th>Country</th>\n",
       "      <th>variability</th>\n",
       "    </tr>\n",
       "  </thead>\n",
       "  <tbody>\n",
       "    <tr>\n",
       "      <th>0</th>\n",
       "      <td>Hailar</td>\n",
       "      <td>China</td>\n",
       "      <td>31.37000</td>\n",
       "    </tr>\n",
       "    <tr>\n",
       "      <th>1</th>\n",
       "      <td>Yakeshi</td>\n",
       "      <td>China</td>\n",
       "      <td>31.37000</td>\n",
       "    </tr>\n",
       "    <tr>\n",
       "      <th>2</th>\n",
       "      <td>Kyzyl</td>\n",
       "      <td>Russia</td>\n",
       "      <td>31.27825</td>\n",
       "    </tr>\n",
       "    <tr>\n",
       "      <th>3</th>\n",
       "      <td>Blagoveshchensk</td>\n",
       "      <td>Russia</td>\n",
       "      <td>30.60325</td>\n",
       "    </tr>\n",
       "    <tr>\n",
       "      <th>4</th>\n",
       "      <td>Heihe</td>\n",
       "      <td>Russia</td>\n",
       "      <td>30.60325</td>\n",
       "    </tr>\n",
       "  </tbody>\n",
       "</table>\n",
       "</div>"
      ],
      "text/plain": [
       "              City Country  variability\n",
       "0           Hailar   China     31.37000\n",
       "1          Yakeshi   China     31.37000\n",
       "2            Kyzyl  Russia     31.27825\n",
       "3  Blagoveshchensk  Russia     30.60325\n",
       "4            Heihe  Russia     30.60325"
      ]
     },
     "execution_count": 54,
     "metadata": {},
     "output_type": "execute_result"
    }
   ],
   "source": [
    "pdfN.head()"
   ]
  },
  {
   "cell_type": "code",
   "execution_count": 55,
   "metadata": {
    "collapsed": false
   },
   "outputs": [
    {
     "name": "stdout",
     "output_type": "stream",
     "text": [
      "['Hailar', 'Kyzyl', 'Blagoveshchensk', 'Heihe']\n"
     ]
    }
   ],
   "source": [
    "cities_list = pdfN.City.tolist()\n",
    "cities_list.remove('Yakeshi')\n",
    "print(cities_list)"
   ]
  },
  {
   "cell_type": "code",
   "execution_count": 70,
   "metadata": {
    "collapsed": false
   },
   "outputs": [],
   "source": [
    "# Get time series for these cities\n",
    "pdf4 = pdf[pdf[city_key].isin(cities_list) & \n",
    "           pdf[country_key].isin(pdfN[country_key].tolist())].copy()\n",
    "pdf4 = filter_by_dates(pdf4, dt_range)\n",
    "pdf4.sort_values(by=[country_key, city_key, 'dt'], inplace=True)"
   ]
  },
  {
   "cell_type": "code",
   "execution_count": 71,
   "metadata": {
    "collapsed": false
   },
   "outputs": [],
   "source": [
    "# For the legend labels\n",
    "top4 = pdf4[[country_key,city_key]].drop_duplicates().values"
   ]
  },
  {
   "cell_type": "markdown",
   "metadata": {},
   "source": [
    "### Plotting"
   ]
  },
  {
   "cell_type": "code",
   "execution_count": 72,
   "metadata": {
    "collapsed": true
   },
   "outputs": [],
   "source": [
    "%matplotlib inline"
   ]
  },
  {
   "cell_type": "code",
   "execution_count": 73,
   "metadata": {
    "collapsed": true
   },
   "outputs": [],
   "source": [
    "import matplotlib.pyplot as plt"
   ]
  },
  {
   "cell_type": "code",
   "execution_count": 74,
   "metadata": {
    "collapsed": true
   },
   "outputs": [],
   "source": [
    "def get_label(df):\n",
    "    return \", \".join(map(str,df[[city_key,country_key]].drop_duplicates().values[0]))\n",
    "\n",
    "\n",
    "temper_key =  'AverageTemperature'\n",
    "\n",
    "def plot_temp(df,timecol, temper_col, markerline, ax):\n",
    "    \n",
    "    ax.plot(df[timecol].values, \n",
    "            df[temper_col].values, \n",
    "            markerline, label=get_label(df))\n",
    "    return ax"
   ]
  },
  {
   "cell_type": "code",
   "execution_count": 75,
   "metadata": {
    "collapsed": false
   },
   "outputs": [],
   "source": [
    "mask1 = (pdf4[country_key] == top4[0,0]) & (pdf4[city_key] == top4[0,1])\n",
    "mask2 = (pdf4[country_key] == top4[1,0]) & (pdf4[city_key] == top4[1,1])\n",
    "mask3 = (pdf4[country_key] == top4[2,0]) & (pdf4[city_key] == top4[2,1])\n",
    "mask4 = (pdf4[country_key] == top4[3,0]) & (pdf4[city_key] == top4[3,1])"
   ]
  },
  {
   "cell_type": "code",
   "execution_count": 76,
   "metadata": {
    "collapsed": false
   },
   "outputs": [],
   "source": [
    "pdf4['decade'] = pdf4.dt.apply(lambda x: x.year-x.year%10)"
   ]
  },
  {
   "cell_type": "code",
   "execution_count": 77,
   "metadata": {
    "collapsed": false
   },
   "outputs": [],
   "source": [
    "pdf4g = pdf4.groupby([country_key, city_key, 'decade']).agg({temper_key:'mean'})\\\n",
    "    .reset_index() \\\n",
    "    .sort_values(by=[country_key, city_key, 'decade'])"
   ]
  },
  {
   "cell_type": "code",
   "execution_count": 78,
   "metadata": {
    "collapsed": true
   },
   "outputs": [],
   "source": [
    "mask1 = (pdf4g[country_key] == top4[0,0]) & (pdf4g[city_key] == top4[0,1])\n",
    "mask2 = (pdf4g[country_key] == top4[1,0]) & (pdf4g[city_key] == top4[1,1])\n",
    "mask3 = (pdf4g[country_key] == top4[2,0]) & (pdf4g[city_key] == top4[2,1])\n",
    "mask4 = (pdf4g[country_key] == top4[3,0]) & (pdf4g[city_key] == top4[3,1])"
   ]
  },
  {
   "cell_type": "code",
   "execution_count": 79,
   "metadata": {
    "collapsed": false
   },
   "outputs": [
    {
     "data": {
      "image/png": "[encoded data removed]",
      "text/plain": [
       "<Figure size 1440x432 with 1 Axes>"
      ]
     },
     "metadata": {
      "needs_background": "light"
     },
     "output_type": "display_data"
    }
   ],
   "source": [
    "fig, ax = plt.subplots(1,1,figsize=[20,6])\n",
    "\n",
    "plot_temp(pdf4g[mask1], 'decade', temper_key, 'x-' , ax)\n",
    "plot_temp(pdf4g[mask2], 'decade', temper_key, 'P--', ax)\n",
    "plot_temp(pdf4g[mask3], 'decade', temper_key, 'X:' , ax)\n",
    "plot_temp(pdf4g[mask4], 'decade', temper_key, 'o-.', ax)\n",
    "\n",
    "plt.xlabel('date [year]')\n",
    "plt.ylabel('temperature [deg. C]')\n",
    "\n",
    "fig.suptitle(f'Top 4 cities by temperature variability, from {dt_range[0].year} - {dt_range[1].year}', fontsize=16)\n",
    "\n",
    "plt.legend();\n",
    "\n",
    "plt.grid();\n",
    "fig.savefig('top4_cities_by_temperature_variability.png')"
   ]
  },
  {
   "cell_type": "code",
   "execution_count": null,
   "metadata": {
    "collapsed": true
   },
   "outputs": [],
   "source": []
  }
 ],
 "metadata": {
  "kernelspec": {
   "display_name": "tf_tda_umap",
   "language": "python",
   "name": "tf_tda_umap"
  },
  "language_info": {
   "codemirror_mode": {
    "name": "ipython",
    "version": 3
   },
   "file_extension": ".py",
   "mimetype": "text/x-python",
   "name": "python",
   "nbconvert_exporter": "python",
   "pygments_lexer": "ipython3",
   "version": "3.8.0"
  },
  "varInspector": {
   "cols": {
    "lenName": 16,
    "lenType": 16,
    "lenVar": 40
   },
   "kernels_config": {
    "python": {
     "delete_cmd_postfix": "",
     "delete_cmd_prefix": "del ",
     "library": "var_list.py",
     "varRefreshCmd": "print(var_dic_list())"
    },
    "r": {
     "delete_cmd_postfix": ") ",
     "delete_cmd_prefix": "rm(",
     "library": "var_list.r",
     "varRefreshCmd": "cat(var_dic_list()) "
    }
   },
   "types_to_exclude": [
    "module",
    "function",
    "builtin_function_or_method",
    "instance",
    "_Feature"
   ],
   "window_display": false
  }
 },
 "nbformat": 4,
 "nbformat_minor": 1
}
